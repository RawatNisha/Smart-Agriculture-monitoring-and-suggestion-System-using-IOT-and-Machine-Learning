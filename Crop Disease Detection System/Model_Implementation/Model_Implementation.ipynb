{
 "cells": [
  {
   "cell_type": "markdown",
   "id": "excess-battery",
   "metadata": {},
   "source": [
    "## Imports"
   ]
  },
  {
   "cell_type": "code",
   "execution_count": 1,
   "id": "chemical-motorcycle",
   "metadata": {},
   "outputs": [],
   "source": [
    "import cv2\n",
    "import pandas\n",
    "import numpy\n",
    "import matplotlib.pyplot as pyplot\n",
    "import tensorflow\n",
    "import keras\n",
    "from keras.utils.vis_utils import plot_model\n",
    "import pickle\n",
    "from sklearn.metrics import confusion_matrix,classification_report\n",
    "import seaborn"
   ]
  },
  {
   "cell_type": "code",
   "execution_count": 2,
   "id": "jewish-azerbaijan",
   "metadata": {},
   "outputs": [],
   "source": [
    "%matplotlib qt"
   ]
  },
  {
   "cell_type": "markdown",
   "id": "overhead-encyclopedia",
   "metadata": {},
   "source": [
    "## Data Imports"
   ]
  },
  {
   "cell_type": "code",
   "execution_count": 21,
   "id": "psychological-decline",
   "metadata": {},
   "outputs": [],
   "source": [
    "pickle_Training_features=open(\"../Data/Preprocessed_Data/Training_Objects/Pickle_Training_features.pickle\",\"rb\")\n",
    "Training_features=pickle.load(pickle_Training_features)\n",
    "pickle_Training_features.close()\n",
    "pickle_Training_labels=open(\"../Data/Preprocessed_Data/Training_Objects/Pickle_Training_labels.pickle\",\"rb\")\n",
    "Training_Labels=pickle.load(pickle_Training_labels)\n",
    "pickle_Training_labels.close()"
   ]
  },
  {
   "cell_type": "code",
   "execution_count": 22,
   "id": "favorite-labor",
   "metadata": {},
   "outputs": [],
   "source": [
    "pickle_Testing_features=open(\"../Data/Preprocessed_Data/Testing_Objects/Pickle_Testing_features.pickle\",\"rb\")\n",
    "Testing_features=pickle.load(pickle_Testing_features)\n",
    "pickle_Testing_features.close()\n",
    "pickle_Testing_labels=open(\"../Data/Preprocessed_Data/Testing_Objects/Pickle_Testing_labels.pickle\",\"rb\")\n",
    "Testing_Labels=pickle.load(pickle_Testing_labels)\n",
    "pickle_Testing_labels.close()"
   ]
  },
  {
   "cell_type": "code",
   "execution_count": 23,
   "id": "competent-light",
   "metadata": {},
   "outputs": [],
   "source": [
    "# Training_features"
   ]
  },
  {
   "cell_type": "code",
   "execution_count": 24,
   "id": "surrounded-surveillance",
   "metadata": {},
   "outputs": [],
   "source": [
    "# Training_Labels"
   ]
  },
  {
   "cell_type": "code",
   "execution_count": 7,
   "id": "assured-sharp",
   "metadata": {},
   "outputs": [
    {
     "data": {
      "text/plain": [
       "<matplotlib.image.AxesImage at 0x1a1dcf37730>"
      ]
     },
     "execution_count": 7,
     "metadata": {},
     "output_type": "execute_result"
    }
   ],
   "source": [
    "pyplot.imshow(Testing_features[0])"
   ]
  },
  {
   "cell_type": "code",
   "execution_count": null,
   "id": "substantial-jenny",
   "metadata": {},
   "outputs": [],
   "source": []
  },
  {
   "cell_type": "markdown",
   "id": "protective-locator",
   "metadata": {},
   "source": [
    "## Praparing Data for training"
   ]
  },
  {
   "cell_type": "code",
   "execution_count": 25,
   "id": "alike-feelings",
   "metadata": {},
   "outputs": [],
   "source": [
    "Training_features=numpy.array(Training_features)"
   ]
  },
  {
   "cell_type": "code",
   "execution_count": 26,
   "id": "arbitrary-correlation",
   "metadata": {},
   "outputs": [
    {
     "data": {
      "text/plain": [
       "(530, 160, 160, 3)"
      ]
     },
     "execution_count": 26,
     "metadata": {},
     "output_type": "execute_result"
    }
   ],
   "source": [
    "Training_features.shape"
   ]
  },
  {
   "cell_type": "code",
   "execution_count": 27,
   "id": "improved-breakdown",
   "metadata": {},
   "outputs": [],
   "source": [
    "Testing_features=numpy.array(Testing_features)"
   ]
  },
  {
   "cell_type": "code",
   "execution_count": 28,
   "id": "worse-armstrong",
   "metadata": {},
   "outputs": [
    {
     "data": {
      "text/plain": [
       "(125, 160, 160, 3)"
      ]
     },
     "execution_count": 28,
     "metadata": {},
     "output_type": "execute_result"
    }
   ],
   "source": [
    "Testing_features.shape"
   ]
  },
  {
   "cell_type": "code",
   "execution_count": 12,
   "id": "eleven-study",
   "metadata": {},
   "outputs": [
    {
     "data": {
      "text/plain": [
       "(160, 160, 3)"
      ]
     },
     "execution_count": 12,
     "metadata": {},
     "output_type": "execute_result"
    }
   ],
   "source": [
    "Training_features[0].shape"
   ]
  },
  {
   "cell_type": "code",
   "execution_count": 13,
   "id": "wound-console",
   "metadata": {},
   "outputs": [],
   "source": [
    "# Training_features=numpy.expand_dims(Training_features,axis=-1)\n",
    "# Testing_features=numpy.expand_dims(Testing_features,axis=-1)"
   ]
  },
  {
   "cell_type": "code",
   "execution_count": 14,
   "id": "directed-cooper",
   "metadata": {},
   "outputs": [
    {
     "data": {
      "text/plain": [
       "(530, 160, 160, 3, 1)"
      ]
     },
     "execution_count": 14,
     "metadata": {},
     "output_type": "execute_result"
    }
   ],
   "source": [
    "Training_features.shape"
   ]
  },
  {
   "cell_type": "code",
   "execution_count": 20,
   "id": "russian-mouth",
   "metadata": {},
   "outputs": [
    {
     "data": {
      "text/plain": [
       "(125, 160, 160, 3)"
      ]
     },
     "execution_count": 20,
     "metadata": {},
     "output_type": "execute_result"
    }
   ],
   "source": [
    "Testing_features.shape"
   ]
  },
  {
   "cell_type": "markdown",
   "id": "instructional-cross",
   "metadata": {},
   "source": [
    "# Model Definition"
   ]
  },
  {
   "cell_type": "code",
   "execution_count": 30,
   "id": "studied-minute",
   "metadata": {},
   "outputs": [],
   "source": [
    "# Simple_Model_1=keras.models.Sequential(\n",
    "# [\n",
    "#     keras.layers.Conv2D(filters=64,kernel_size=2,strides=(1,1),padding='valid',activation='relu',input_shape=[160,160,1]),\n",
    "#     keras.layers.MaxPool2D(pool_size=(2,2)),\n",
    "#     keras.layers.Flatten(),\n",
    "#     keras.layers.Dense(units=512,activation='relu'),\n",
    "#     keras.layers.Dense(units=64,activation='relu'),\n",
    "#     keras.layers.Dense(units=5,activation='softmax')\n",
    "# ]\n",
    "# )\n",
    "\n",
    "# Simple_Model_1=keras.models.Sequential(\n",
    "# [\n",
    "#     keras.layers.Conv2D(filters=64,kernel_size=2,strides=(1,1),padding='valid',activation='relu',input_shape=[160,160,3]),\n",
    "#     keras.layers.MaxPool2D(pool_size=(2,2)),\n",
    "#     keras.layers.Flatten(),\n",
    "#     keras.layers.Dense(units=512,activation='relu'),\n",
    "#     keras.layers.Dense(units=64,activation='relu'),\n",
    "#     keras.layers.Dense(units=5,activation='softmax')\n",
    "# ]\n",
    "# )\n",
    "\n",
    "\n",
    "Simple_Model_1=keras.models.Sequential(\n",
    "     [\n",
    "         keras.layers.Conv2D(filters=128,kernel_size=3,strides=(1,1),padding='valid',activation='relu',input_shape=[160,160,3]),\n",
    "         keras.layers.MaxPool2D(pool_size=(2,2)),\n",
    "         keras.layers.Conv2D(filters=64,kernel_size=3,strides=(1,1),padding='valid',activation='relu',input_shape=[160,160,3]),\n",
    "         keras.layers.MaxPool2D(pool_size=(2,2)),\n",
    "         keras.layers.Conv2D(filters=32,kernel_size=3,strides=(1,1),padding='valid',activation='relu',input_shape=[160,160,3]),\n",
    "         keras.layers.MaxPool2D(pool_size=(2,2)),\n",
    "         keras.layers.Conv2D(filters=16,kernel_size=3,strides=(1,1),padding='valid',activation='relu',input_shape=[160,160,3]),\n",
    "         keras.layers.MaxPool2D(pool_size=(2,2)),\n",
    "         keras.layers.Flatten(),\n",
    "         keras.layers.Dense(units=512,activation='relu'),\n",
    "         keras.layers.Dense(units=256,activation='relu'),\n",
    "         keras.layers.Dense(units=64,activation='relu'),\n",
    "         keras.layers.Dense(units=5,activation='softmax'),\n",
    "     ]\n",
    " )\n",
    "\n",
    "# Simple_Model_1=keras.models.Sequential([\n",
    "#          keras.layers.Conv2D(filters=256, kernel_size=3, strides=(1,1), padding='valid',activation= 'relu', input_shape=[160,160,3]),\n",
    "#          keras.layers.MaxPooling2D(pool_size=(2,2)),\n",
    "#          keras.layers.Conv2D(filters=64, kernel_size=3, strides=(2,2), padding='same', activation='relu'),\n",
    "#          keras.layers.MaxPooling2D(pool_size=(2,2)),\n",
    "#          keras.layers.Conv2D(filters=16, kernel_size=3, strides=(2,2), padding='same', activation='relu'),\n",
    "#          keras.layers.MaxPooling2D(pool_size=(2,2)),\n",
    "#          keras.layers.Flatten(),\n",
    "#          keras.layers.Dense(units=512, activation='relu'),\n",
    "#          keras.layers.Dense(units=256, activation='relu'),\n",
    "#          keras.layers.Dropout(0.15),\n",
    "#          keras.layers.Dense(units=256, activation='relu'),\n",
    "#          keras.layers.Dropout(0.10),                         \n",
    "#          keras.layers.Dense(units=64, activation='relu'),\n",
    "#          keras.layers.Dense(units=5, activation='softmax')\n",
    "#     ]\n",
    "#  )"
   ]
  },
  {
   "cell_type": "code",
   "execution_count": null,
   "id": "sunset-appreciation",
   "metadata": {},
   "outputs": [],
   "source": []
  },
  {
   "cell_type": "code",
   "execution_count": 31,
   "id": "flexible-skill",
   "metadata": {},
   "outputs": [
    {
     "data": {
      "text/plain": [
       "<keras.engine.sequential.Sequential at 0x1a1dbb0c7f0>"
      ]
     },
     "execution_count": 31,
     "metadata": {},
     "output_type": "execute_result"
    }
   ],
   "source": [
    "Simple_Model_1"
   ]
  },
  {
   "cell_type": "code",
   "execution_count": 32,
   "id": "aggregate-proceeding",
   "metadata": {},
   "outputs": [
    {
     "data": {
      "image/png": "[encoded data removed]",
      "text/plain": [
       "<IPython.core.display.Image object>"
      ]
     },
     "execution_count": 32,
     "metadata": {},
     "output_type": "execute_result"
    }
   ],
   "source": [
    "plot_model(Simple_Model_1, to_file='model_plot10.png', show_shapes=True, show_layer_names=True)"
   ]
  },
  {
   "cell_type": "code",
   "execution_count": 18,
   "id": "transsexual-painting",
   "metadata": {},
   "outputs": [
    {
     "name": "stdout",
     "output_type": "stream",
     "text": [
      "Model: \"sequential\"\n",
      "_________________________________________________________________\n",
      "Layer (type)                 Output Shape              Param #   \n",
      "=================================================================\n",
      "conv2d (Conv2D)              (None, 158, 158, 128)     3584      \n",
      "_________________________________________________________________\n",
      "max_pooling2d (MaxPooling2D) (None, 79, 79, 128)       0         \n",
      "_________________________________________________________________\n",
      "conv2d_1 (Conv2D)            (None, 77, 77, 64)        73792     \n",
      "_________________________________________________________________\n",
      "max_pooling2d_1 (MaxPooling2 (None, 38, 38, 64)        0         \n",
      "_________________________________________________________________\n",
      "conv2d_2 (Conv2D)            (None, 36, 36, 32)        18464     \n",
      "_________________________________________________________________\n",
      "max_pooling2d_2 (MaxPooling2 (None, 18, 18, 32)        0         \n",
      "_________________________________________________________________\n",
      "conv2d_3 (Conv2D)            (None, 16, 16, 16)        4624      \n",
      "_________________________________________________________________\n",
      "max_pooling2d_3 (MaxPooling2 (None, 8, 8, 16)          0         \n",
      "_________________________________________________________________\n",
      "flatten (Flatten)            (None, 1024)              0         \n",
      "_________________________________________________________________\n",
      "dense (Dense)                (None, 512)               524800    \n",
      "_________________________________________________________________\n",
      "dense_1 (Dense)              (None, 256)               131328    \n",
      "_________________________________________________________________\n",
      "dense_2 (Dense)              (None, 64)                16448     \n",
      "_________________________________________________________________\n",
      "dense_3 (Dense)              (None, 5)                 325       \n",
      "=================================================================\n",
      "Total params: 773,365\n",
      "Trainable params: 773,365\n",
      "Non-trainable params: 0\n",
      "_________________________________________________________________\n"
     ]
    }
   ],
   "source": [
    "Simple_Model_1.summary()"
   ]
  },
  {
   "cell_type": "code",
   "execution_count": 33,
   "id": "polish-pillow",
   "metadata": {},
   "outputs": [],
   "source": [
    "Simple_Model_1.compile(optimizer='adam',loss='sparse_categorical_crossentropy',metrics=['accuracy','sparse_categorical_crossentropy'])"
   ]
  },
  {
   "cell_type": "code",
   "execution_count": 34,
   "id": "printable-discretion",
   "metadata": {},
   "outputs": [
    {
     "name": "stdout",
     "output_type": "stream",
     "text": [
      "Epoch 1/20\n",
      " 3/17 [====>.........................] - ETA: 26s - loss: 1.6225 - accuracy: 0.1979 - sparse_categorical_crossentropy: 1.6225"
     ]
    },
    {
     "ename": "KeyboardInterrupt",
     "evalue": "",
     "output_type": "error",
     "traceback": [
      "\u001b[1;31m---------------------------------------------------------------------------\u001b[0m",
      "\u001b[1;31mKeyboardInterrupt\u001b[0m                         Traceback (most recent call last)",
      "\u001b[1;32m<ipython-input-34-a61f782d1242>\u001b[0m in \u001b[0;36m<module>\u001b[1;34m\u001b[0m\n\u001b[1;32m----> 1\u001b[1;33m \u001b[0mSimple_Model_1\u001b[0m\u001b[1;33m.\u001b[0m\u001b[0mfit\u001b[0m\u001b[1;33m(\u001b[0m\u001b[0mTraining_features\u001b[0m\u001b[1;33m,\u001b[0m\u001b[0mnumpy\u001b[0m\u001b[1;33m.\u001b[0m\u001b[0marray\u001b[0m\u001b[1;33m(\u001b[0m\u001b[0mTraining_Labels\u001b[0m\u001b[1;33m)\u001b[0m\u001b[1;33m,\u001b[0m\u001b[0mepochs\u001b[0m\u001b[1;33m=\u001b[0m\u001b[1;36m20\u001b[0m\u001b[1;33m,\u001b[0m\u001b[0mverbose\u001b[0m\u001b[1;33m=\u001b[0m\u001b[1;36m1\u001b[0m\u001b[1;33m,\u001b[0m\u001b[0mvalidation_data\u001b[0m\u001b[1;33m=\u001b[0m\u001b[1;33m(\u001b[0m\u001b[0mTesting_features\u001b[0m\u001b[1;33m,\u001b[0m\u001b[0mnumpy\u001b[0m\u001b[1;33m.\u001b[0m\u001b[0marray\u001b[0m\u001b[1;33m(\u001b[0m\u001b[0mTesting_Labels\u001b[0m\u001b[1;33m)\u001b[0m\u001b[1;33m)\u001b[0m\u001b[1;33m)\u001b[0m\u001b[1;33m\u001b[0m\u001b[1;33m\u001b[0m\u001b[0m\n\u001b[0m",
      "\u001b[1;32m~\\AppData\\Roaming\\Python\\Python39\\site-packages\\keras\\engine\\training.py\u001b[0m in \u001b[0;36mfit\u001b[1;34m(self, x, y, batch_size, epochs, verbose, callbacks, validation_split, validation_data, shuffle, class_weight, sample_weight, initial_epoch, steps_per_epoch, validation_steps, validation_batch_size, validation_freq, max_queue_size, workers, use_multiprocessing)\u001b[0m\n\u001b[0;32m   1182\u001b[0m                 _r=1):\n\u001b[0;32m   1183\u001b[0m               \u001b[0mcallbacks\u001b[0m\u001b[1;33m.\u001b[0m\u001b[0mon_train_batch_begin\u001b[0m\u001b[1;33m(\u001b[0m\u001b[0mstep\u001b[0m\u001b[1;33m)\u001b[0m\u001b[1;33m\u001b[0m\u001b[1;33m\u001b[0m\u001b[0m\n\u001b[1;32m-> 1184\u001b[1;33m               \u001b[0mtmp_logs\u001b[0m \u001b[1;33m=\u001b[0m \u001b[0mself\u001b[0m\u001b[1;33m.\u001b[0m\u001b[0mtrain_function\u001b[0m\u001b[1;33m(\u001b[0m\u001b[0miterator\u001b[0m\u001b[1;33m)\u001b[0m\u001b[1;33m\u001b[0m\u001b[1;33m\u001b[0m\u001b[0m\n\u001b[0m\u001b[0;32m   1185\u001b[0m               \u001b[1;32mif\u001b[0m \u001b[0mdata_handler\u001b[0m\u001b[1;33m.\u001b[0m\u001b[0mshould_sync\u001b[0m\u001b[1;33m:\u001b[0m\u001b[1;33m\u001b[0m\u001b[1;33m\u001b[0m\u001b[0m\n\u001b[0;32m   1186\u001b[0m                 \u001b[0mcontext\u001b[0m\u001b[1;33m.\u001b[0m\u001b[0masync_wait\u001b[0m\u001b[1;33m(\u001b[0m\u001b[1;33m)\u001b[0m\u001b[1;33m\u001b[0m\u001b[1;33m\u001b[0m\u001b[0m\n",
      "\u001b[1;32m~\\AppData\\Roaming\\Python\\Python39\\site-packages\\tensorflow\\python\\eager\\def_function.py\u001b[0m in \u001b[0;36m__call__\u001b[1;34m(self, *args, **kwds)\u001b[0m\n\u001b[0;32m    883\u001b[0m \u001b[1;33m\u001b[0m\u001b[0m\n\u001b[0;32m    884\u001b[0m       \u001b[1;32mwith\u001b[0m \u001b[0mOptionalXlaContext\u001b[0m\u001b[1;33m(\u001b[0m\u001b[0mself\u001b[0m\u001b[1;33m.\u001b[0m\u001b[0m_jit_compile\u001b[0m\u001b[1;33m)\u001b[0m\u001b[1;33m:\u001b[0m\u001b[1;33m\u001b[0m\u001b[1;33m\u001b[0m\u001b[0m\n\u001b[1;32m--> 885\u001b[1;33m         \u001b[0mresult\u001b[0m \u001b[1;33m=\u001b[0m \u001b[0mself\u001b[0m\u001b[1;33m.\u001b[0m\u001b[0m_call\u001b[0m\u001b[1;33m(\u001b[0m\u001b[1;33m*\u001b[0m\u001b[0margs\u001b[0m\u001b[1;33m,\u001b[0m \u001b[1;33m**\u001b[0m\u001b[0mkwds\u001b[0m\u001b[1;33m)\u001b[0m\u001b[1;33m\u001b[0m\u001b[1;33m\u001b[0m\u001b[0m\n\u001b[0m\u001b[0;32m    886\u001b[0m \u001b[1;33m\u001b[0m\u001b[0m\n\u001b[0;32m    887\u001b[0m       \u001b[0mnew_tracing_count\u001b[0m \u001b[1;33m=\u001b[0m \u001b[0mself\u001b[0m\u001b[1;33m.\u001b[0m\u001b[0mexperimental_get_tracing_count\u001b[0m\u001b[1;33m(\u001b[0m\u001b[1;33m)\u001b[0m\u001b[1;33m\u001b[0m\u001b[1;33m\u001b[0m\u001b[0m\n",
      "\u001b[1;32m~\\AppData\\Roaming\\Python\\Python39\\site-packages\\tensorflow\\python\\eager\\def_function.py\u001b[0m in \u001b[0;36m_call\u001b[1;34m(self, *args, **kwds)\u001b[0m\n\u001b[0;32m    915\u001b[0m       \u001b[1;31m# In this case we have created variables on the first call, so we run the\u001b[0m\u001b[1;33m\u001b[0m\u001b[1;33m\u001b[0m\u001b[1;33m\u001b[0m\u001b[0m\n\u001b[0;32m    916\u001b[0m       \u001b[1;31m# defunned version which is guaranteed to never create variables.\u001b[0m\u001b[1;33m\u001b[0m\u001b[1;33m\u001b[0m\u001b[1;33m\u001b[0m\u001b[0m\n\u001b[1;32m--> 917\u001b[1;33m       \u001b[1;32mreturn\u001b[0m \u001b[0mself\u001b[0m\u001b[1;33m.\u001b[0m\u001b[0m_stateless_fn\u001b[0m\u001b[1;33m(\u001b[0m\u001b[1;33m*\u001b[0m\u001b[0margs\u001b[0m\u001b[1;33m,\u001b[0m \u001b[1;33m**\u001b[0m\u001b[0mkwds\u001b[0m\u001b[1;33m)\u001b[0m  \u001b[1;31m# pylint: disable=not-callable\u001b[0m\u001b[1;33m\u001b[0m\u001b[1;33m\u001b[0m\u001b[0m\n\u001b[0m\u001b[0;32m    918\u001b[0m     \u001b[1;32melif\u001b[0m \u001b[0mself\u001b[0m\u001b[1;33m.\u001b[0m\u001b[0m_stateful_fn\u001b[0m \u001b[1;32mis\u001b[0m \u001b[1;32mnot\u001b[0m \u001b[1;32mNone\u001b[0m\u001b[1;33m:\u001b[0m\u001b[1;33m\u001b[0m\u001b[1;33m\u001b[0m\u001b[0m\n\u001b[0;32m    919\u001b[0m       \u001b[1;31m# Release the lock early so that multiple threads can perform the call\u001b[0m\u001b[1;33m\u001b[0m\u001b[1;33m\u001b[0m\u001b[1;33m\u001b[0m\u001b[0m\n",
      "\u001b[1;32m~\\AppData\\Roaming\\Python\\Python39\\site-packages\\tensorflow\\python\\eager\\function.py\u001b[0m in \u001b[0;36m__call__\u001b[1;34m(self, *args, **kwargs)\u001b[0m\n\u001b[0;32m   3037\u001b[0m       (graph_function,\n\u001b[0;32m   3038\u001b[0m        filtered_flat_args) = self._maybe_define_function(args, kwargs)\n\u001b[1;32m-> 3039\u001b[1;33m     return graph_function._call_flat(\n\u001b[0m\u001b[0;32m   3040\u001b[0m         filtered_flat_args, captured_inputs=graph_function.captured_inputs)  # pylint: disable=protected-access\n\u001b[0;32m   3041\u001b[0m \u001b[1;33m\u001b[0m\u001b[0m\n",
      "\u001b[1;32m~\\AppData\\Roaming\\Python\\Python39\\site-packages\\tensorflow\\python\\eager\\function.py\u001b[0m in \u001b[0;36m_call_flat\u001b[1;34m(self, args, captured_inputs, cancellation_manager)\u001b[0m\n\u001b[0;32m   1961\u001b[0m         and executing_eagerly):\n\u001b[0;32m   1962\u001b[0m       \u001b[1;31m# No tape is watching; skip to running the function.\u001b[0m\u001b[1;33m\u001b[0m\u001b[1;33m\u001b[0m\u001b[1;33m\u001b[0m\u001b[0m\n\u001b[1;32m-> 1963\u001b[1;33m       return self._build_call_outputs(self._inference_function.call(\n\u001b[0m\u001b[0;32m   1964\u001b[0m           ctx, args, cancellation_manager=cancellation_manager))\n\u001b[0;32m   1965\u001b[0m     forward_backward = self._select_forward_and_backward_functions(\n",
      "\u001b[1;32m~\\AppData\\Roaming\\Python\\Python39\\site-packages\\tensorflow\\python\\eager\\function.py\u001b[0m in \u001b[0;36mcall\u001b[1;34m(self, ctx, args, cancellation_manager)\u001b[0m\n\u001b[0;32m    589\u001b[0m       \u001b[1;32mwith\u001b[0m \u001b[0m_InterpolateFunctionError\u001b[0m\u001b[1;33m(\u001b[0m\u001b[0mself\u001b[0m\u001b[1;33m)\u001b[0m\u001b[1;33m:\u001b[0m\u001b[1;33m\u001b[0m\u001b[1;33m\u001b[0m\u001b[0m\n\u001b[0;32m    590\u001b[0m         \u001b[1;32mif\u001b[0m \u001b[0mcancellation_manager\u001b[0m \u001b[1;32mis\u001b[0m \u001b[1;32mNone\u001b[0m\u001b[1;33m:\u001b[0m\u001b[1;33m\u001b[0m\u001b[1;33m\u001b[0m\u001b[0m\n\u001b[1;32m--> 591\u001b[1;33m           outputs = execute.execute(\n\u001b[0m\u001b[0;32m    592\u001b[0m               \u001b[0mstr\u001b[0m\u001b[1;33m(\u001b[0m\u001b[0mself\u001b[0m\u001b[1;33m.\u001b[0m\u001b[0msignature\u001b[0m\u001b[1;33m.\u001b[0m\u001b[0mname\u001b[0m\u001b[1;33m)\u001b[0m\u001b[1;33m,\u001b[0m\u001b[1;33m\u001b[0m\u001b[1;33m\u001b[0m\u001b[0m\n\u001b[0;32m    593\u001b[0m               \u001b[0mnum_outputs\u001b[0m\u001b[1;33m=\u001b[0m\u001b[0mself\u001b[0m\u001b[1;33m.\u001b[0m\u001b[0m_num_outputs\u001b[0m\u001b[1;33m,\u001b[0m\u001b[1;33m\u001b[0m\u001b[1;33m\u001b[0m\u001b[0m\n",
      "\u001b[1;32m~\\AppData\\Roaming\\Python\\Python39\\site-packages\\tensorflow\\python\\eager\\execute.py\u001b[0m in \u001b[0;36mquick_execute\u001b[1;34m(op_name, num_outputs, inputs, attrs, ctx, name)\u001b[0m\n\u001b[0;32m     57\u001b[0m   \u001b[1;32mtry\u001b[0m\u001b[1;33m:\u001b[0m\u001b[1;33m\u001b[0m\u001b[1;33m\u001b[0m\u001b[0m\n\u001b[0;32m     58\u001b[0m     \u001b[0mctx\u001b[0m\u001b[1;33m.\u001b[0m\u001b[0mensure_initialized\u001b[0m\u001b[1;33m(\u001b[0m\u001b[1;33m)\u001b[0m\u001b[1;33m\u001b[0m\u001b[1;33m\u001b[0m\u001b[0m\n\u001b[1;32m---> 59\u001b[1;33m     tensors = pywrap_tfe.TFE_Py_Execute(ctx._handle, device_name, op_name,\n\u001b[0m\u001b[0;32m     60\u001b[0m                                         inputs, attrs, num_outputs)\n\u001b[0;32m     61\u001b[0m   \u001b[1;32mexcept\u001b[0m \u001b[0mcore\u001b[0m\u001b[1;33m.\u001b[0m\u001b[0m_NotOkStatusException\u001b[0m \u001b[1;32mas\u001b[0m \u001b[0me\u001b[0m\u001b[1;33m:\u001b[0m\u001b[1;33m\u001b[0m\u001b[1;33m\u001b[0m\u001b[0m\n",
      "\u001b[1;31mKeyboardInterrupt\u001b[0m: "
     ]
    }
   ],
   "source": [
    "Simple_Model_1.fit(Training_features,numpy.array(Training_Labels),epochs=20,verbose=1,validation_data=(Testing_features,numpy.array(Testing_Labels)))"
   ]
  },
  {
   "cell_type": "code",
   "execution_count": 18,
   "id": "assisted-walter",
   "metadata": {},
   "outputs": [
    {
     "name": "stdout",
     "output_type": "stream",
     "text": [
      "Epoch 1/20\n",
      "17/17 [==============================] - 33s 2s/step - loss: 0.2982 - accuracy: 0.8962 - sparse_categorical_crossentropy: 0.2982 - val_loss: 1.5048 - val_accuracy: 0.6080 - val_sparse_categorical_crossentropy: 1.5048\n",
      "Epoch 2/20\n",
      "17/17 [==============================] - 33s 2s/step - loss: 0.1779 - accuracy: 0.9396 - sparse_categorical_crossentropy: 0.1779 - val_loss: 2.0778 - val_accuracy: 0.5520 - val_sparse_categorical_crossentropy: 2.0778\n",
      "Epoch 3/20\n",
      "17/17 [==============================] - 34s 2s/step - loss: 0.1262 - accuracy: 0.9679 - sparse_categorical_crossentropy: 0.1262 - val_loss: 2.7105 - val_accuracy: 0.5200 - val_sparse_categorical_crossentropy: 2.7105\n",
      "Epoch 4/20\n",
      "17/17 [==============================] - 33s 2s/step - loss: 0.1699 - accuracy: 0.9434 - sparse_categorical_crossentropy: 0.1699 - val_loss: 2.1785 - val_accuracy: 0.5440 - val_sparse_categorical_crossentropy: 2.1785\n",
      "Epoch 5/20\n",
      "17/17 [==============================] - 33s 2s/step - loss: 0.1719 - accuracy: 0.9396 - sparse_categorical_crossentropy: 0.1719 - val_loss: 2.9177 - val_accuracy: 0.5040 - val_sparse_categorical_crossentropy: 2.9177\n",
      "Epoch 6/20\n",
      "17/17 [==============================] - 33s 2s/step - loss: 0.3673 - accuracy: 0.8698 - sparse_categorical_crossentropy: 0.3673 - val_loss: 1.6434 - val_accuracy: 0.5360 - val_sparse_categorical_crossentropy: 1.6434\n",
      "Epoch 7/20\n",
      "17/17 [==============================] - 33s 2s/step - loss: 0.2098 - accuracy: 0.9358 - sparse_categorical_crossentropy: 0.2098 - val_loss: 1.7397 - val_accuracy: 0.6080 - val_sparse_categorical_crossentropy: 1.7397\n",
      "Epoch 8/20\n",
      "17/17 [==============================] - 34s 2s/step - loss: 0.1063 - accuracy: 0.9717 - sparse_categorical_crossentropy: 0.1063 - val_loss: 1.9586 - val_accuracy: 0.5680 - val_sparse_categorical_crossentropy: 1.9586\n",
      "Epoch 9/20\n",
      "17/17 [==============================] - 33s 2s/step - loss: 0.0572 - accuracy: 0.9887 - sparse_categorical_crossentropy: 0.0572 - val_loss: 2.9246 - val_accuracy: 0.5120 - val_sparse_categorical_crossentropy: 2.9246\n",
      "Epoch 10/20\n",
      "17/17 [==============================] - 33s 2s/step - loss: 0.0611 - accuracy: 0.9792 - sparse_categorical_crossentropy: 0.0611 - val_loss: 2.1549 - val_accuracy: 0.5200 - val_sparse_categorical_crossentropy: 2.1549\n",
      "Epoch 11/20\n",
      "17/17 [==============================] - 33s 2s/step - loss: 0.0983 - accuracy: 0.9698 - sparse_categorical_crossentropy: 0.0983 - val_loss: 2.2707 - val_accuracy: 0.5600 - val_sparse_categorical_crossentropy: 2.2707\n",
      "Epoch 12/20\n",
      "17/17 [==============================] - 33s 2s/step - loss: 0.0482 - accuracy: 0.9868 - sparse_categorical_crossentropy: 0.0482 - val_loss: 2.3318 - val_accuracy: 0.5360 - val_sparse_categorical_crossentropy: 2.3318\n",
      "Epoch 13/20\n",
      "17/17 [==============================] - 33s 2s/step - loss: 0.0496 - accuracy: 0.9830 - sparse_categorical_crossentropy: 0.0496 - val_loss: 2.7731 - val_accuracy: 0.5120 - val_sparse_categorical_crossentropy: 2.7731\n",
      "Epoch 14/20\n",
      "17/17 [==============================] - 34s 2s/step - loss: 0.0767 - accuracy: 0.9830 - sparse_categorical_crossentropy: 0.0767 - val_loss: 2.2322 - val_accuracy: 0.5760 - val_sparse_categorical_crossentropy: 2.2322\n",
      "Epoch 15/20\n",
      "17/17 [==============================] - 33s 2s/step - loss: 0.0703 - accuracy: 0.9755 - sparse_categorical_crossentropy: 0.0703 - val_loss: 2.4064 - val_accuracy: 0.5520 - val_sparse_categorical_crossentropy: 2.4064\n",
      "Epoch 16/20\n",
      "17/17 [==============================] - 33s 2s/step - loss: 0.1579 - accuracy: 0.9491 - sparse_categorical_crossentropy: 0.1579 - val_loss: 2.5333 - val_accuracy: 0.5600 - val_sparse_categorical_crossentropy: 2.5333\n",
      "Epoch 17/20\n",
      "17/17 [==============================] - 33s 2s/step - loss: 0.1204 - accuracy: 0.9623 - sparse_categorical_crossentropy: 0.1204 - val_loss: 2.1455 - val_accuracy: 0.5280 - val_sparse_categorical_crossentropy: 2.1455\n",
      "Epoch 18/20\n",
      "17/17 [==============================] - 33s 2s/step - loss: 0.0363 - accuracy: 0.9962 - sparse_categorical_crossentropy: 0.0363 - val_loss: 2.6387 - val_accuracy: 0.5200 - val_sparse_categorical_crossentropy: 2.6387\n",
      "Epoch 19/20\n",
      "17/17 [==============================] - 33s 2s/step - loss: 0.0149 - accuracy: 0.9962 - sparse_categorical_crossentropy: 0.0149 - val_loss: 2.5119 - val_accuracy: 0.5520 - val_sparse_categorical_crossentropy: 2.5119\n",
      "Epoch 20/20\n",
      "17/17 [==============================] - 33s 2s/step - loss: 0.0060 - accuracy: 0.9981 - sparse_categorical_crossentropy: 0.0060 - val_loss: 2.7425 - val_accuracy: 0.5360 - val_sparse_categorical_crossentropy: 2.7425\n"
     ]
    },
    {
     "data": {
      "text/plain": [
       "<keras.callbacks.History at 0x24b525195e0>"
      ]
     },
     "execution_count": 18,
     "metadata": {},
     "output_type": "execute_result"
    }
   ],
   "source": [
    "Simple_Model_1.fit(Training_features,numpy.array(Training_Labels),epochs=20,verbose=1,validation_data=(Testing_features,numpy.array(Testing_Labels)))"
   ]
  },
  {
   "cell_type": "code",
   "execution_count": 89,
   "id": "quick-grocery",
   "metadata": {},
   "outputs": [],
   "source": [
    "# Simple_Model_1.save(\"../Models/Simple_Model_5_colored_For_Crop_Detection.h5\") "
   ]
  },
  {
   "cell_type": "markdown",
   "id": "spanish-leone",
   "metadata": {},
   "source": [
    "## prediction"
   ]
  },
  {
   "cell_type": "code",
   "execution_count": 21,
   "id": "universal-rings",
   "metadata": {},
   "outputs": [],
   "source": [
    "model=tensorflow.keras.models.load_model('../Models/Simple_Model_4_colored_For_Crop_Detection.h5')"
   ]
  },
  {
   "cell_type": "code",
   "execution_count": 22,
   "id": "divided-cookie",
   "metadata": {},
   "outputs": [
    {
     "data": {
      "image/png": "[encoded data removed]",
      "text/plain": [
       "<IPython.core.display.Image object>"
      ]
     },
     "execution_count": 22,
     "metadata": {},
     "output_type": "execute_result"
    }
   ],
   "source": [
    "plot_model(model, to_file='model_plot10.png', show_shapes=True, show_layer_names=True)"
   ]
  },
  {
   "cell_type": "code",
   "execution_count": 24,
   "id": "wooden-philosophy",
   "metadata": {},
   "outputs": [],
   "source": [
    "Predictions=model.predict(Testing_features)"
   ]
  },
  {
   "cell_type": "code",
   "execution_count": 25,
   "id": "clean-musician",
   "metadata": {},
   "outputs": [
    {
     "data": {
      "text/plain": [
       "array([1.16769655e-07, 4.33371053e-04, 1.87035336e-03, 1.09235050e-04,\n",
       "       9.97586966e-01], dtype=float32)"
      ]
     },
     "execution_count": 25,
     "metadata": {},
     "output_type": "execute_result"
    }
   ],
   "source": [
    "Predictions[50]"
   ]
  },
  {
   "cell_type": "code",
   "execution_count": 26,
   "id": "unknown-cream",
   "metadata": {},
   "outputs": [
    {
     "data": {
      "text/plain": [
       "0.99758697"
      ]
     },
     "execution_count": 26,
     "metadata": {},
     "output_type": "execute_result"
    }
   ],
   "source": [
    "max(Predictions[50])"
   ]
  },
  {
   "cell_type": "code",
   "execution_count": 27,
   "id": "surface-discussion",
   "metadata": {},
   "outputs": [
    {
     "data": {
      "text/plain": [
       "0"
      ]
     },
     "execution_count": 27,
     "metadata": {},
     "output_type": "execute_result"
    }
   ],
   "source": [
    "Training_Labels[50]"
   ]
  },
  {
   "cell_type": "code",
   "execution_count": 28,
   "id": "duplicate-silence",
   "metadata": {},
   "outputs": [
    {
     "data": {
      "text/plain": [
       "<matplotlib.image.AxesImage at 0x1ec9cd258e0>"
      ]
     },
     "execution_count": 28,
     "metadata": {},
     "output_type": "execute_result"
    }
   ],
   "source": [
    "pyplot.imshow(Training_features[50],cmap='gray')"
   ]
  },
  {
   "cell_type": "code",
   "execution_count": 29,
   "id": "declared-brunswick",
   "metadata": {},
   "outputs": [],
   "source": [
    "class_list=[\n",
    "    \"Cotton\",\n",
    "    \"Maize\",\n",
    "    \"Rice\",\n",
    "    \"Sugarcane\",\n",
    "    \"Wheat\"\n",
    "]"
   ]
  },
  {
   "cell_type": "code",
   "execution_count": 30,
   "id": "falling-departure",
   "metadata": {},
   "outputs": [],
   "source": [
    "testing_image=cv2.imread(\"./cotton.jpg\")\n",
    "testing_image=cv2.resize(testing_image,(160,160))\n",
    "testing_image=testing_image/255"
   ]
  },
  {
   "cell_type": "code",
   "execution_count": 31,
   "id": "homeless-volleyball",
   "metadata": {
    "jupyter": {
     "outputs_hidden": true
    }
   },
   "outputs": [
    {
     "data": {
      "text/plain": [
       "array([[[0.70196078, 0.61960784, 0.58823529],\n",
       "        [0.70588235, 0.61960784, 0.6       ],\n",
       "        [0.74509804, 0.65098039, 0.60392157],\n",
       "        ...,\n",
       "        [0.63921569, 0.74509804, 0.89019608],\n",
       "        [0.61960784, 0.7254902 , 0.87058824],\n",
       "        [0.59607843, 0.70980392, 0.85490196]],\n",
       "\n",
       "       [[0.72156863, 0.63529412, 0.59215686],\n",
       "        [0.7254902 , 0.63137255, 0.60392157],\n",
       "        [0.74901961, 0.65490196, 0.60784314],\n",
       "        ...,\n",
       "        [0.63137255, 0.73333333, 0.87843137],\n",
       "        [0.62352941, 0.72941176, 0.8745098 ],\n",
       "        [0.6       , 0.71372549, 0.85882353]],\n",
       "\n",
       "       [[0.74509804, 0.65098039, 0.60392157],\n",
       "        [0.74901961, 0.65098039, 0.61176471],\n",
       "        [0.76078431, 0.66666667, 0.61960784],\n",
       "        ...,\n",
       "        [0.64313725, 0.74117647, 0.8745098 ],\n",
       "        [0.61960784, 0.7254902 , 0.87058824],\n",
       "        [0.59607843, 0.70980392, 0.85490196]],\n",
       "\n",
       "       ...,\n",
       "\n",
       "       [[0.12156863, 0.2       , 0.20392157],\n",
       "        [0.1372549 , 0.21960784, 0.22352941],\n",
       "        [0.1254902 , 0.22352941, 0.23137255],\n",
       "        ...,\n",
       "        [0.01176471, 0.05098039, 0.07058824],\n",
       "        [0.10588235, 0.19607843, 0.20392157],\n",
       "        [0.14509804, 0.30196078, 0.2745098 ]],\n",
       "\n",
       "       [[0.10980392, 0.18823529, 0.19215686],\n",
       "        [0.12941176, 0.21176471, 0.21568627],\n",
       "        [0.12941176, 0.22745098, 0.23529412],\n",
       "        ...,\n",
       "        [0.03137255, 0.09019608, 0.08235294],\n",
       "        [0.07843137, 0.2745098 , 0.24313725],\n",
       "        [0.2       , 0.41960784, 0.35686275]],\n",
       "\n",
       "       [[0.12941176, 0.20784314, 0.21176471],\n",
       "        [0.10196078, 0.18431373, 0.18823529],\n",
       "        [0.14901961, 0.24705882, 0.25490196],\n",
       "        ...,\n",
       "        [0.0627451 , 0.20784314, 0.16470588],\n",
       "        [0.13333333, 0.37254902, 0.31764706],\n",
       "        [0.12156863, 0.38823529, 0.28235294]]])"
      ]
     },
     "execution_count": 31,
     "metadata": {},
     "output_type": "execute_result"
    }
   ],
   "source": [
    "# testing_image"
   ]
  },
  {
   "cell_type": "code",
   "execution_count": 32,
   "id": "automotive-appraisal",
   "metadata": {},
   "outputs": [],
   "source": [
    "testing_image=numpy.array([testing_image])"
   ]
  },
  {
   "cell_type": "code",
   "execution_count": 33,
   "id": "tropical-pontiac",
   "metadata": {},
   "outputs": [
    {
     "data": {
      "text/plain": [
       "(1, 160, 160, 3)"
      ]
     },
     "execution_count": 33,
     "metadata": {},
     "output_type": "execute_result"
    }
   ],
   "source": [
    "testing_image.shape"
   ]
  },
  {
   "cell_type": "code",
   "execution_count": 34,
   "id": "normal-roulette",
   "metadata": {},
   "outputs": [],
   "source": [
    "# testing_image=numpy.expand_dims(testing_image,axis=-1)"
   ]
  },
  {
   "cell_type": "code",
   "execution_count": 36,
   "id": "naval-roberts",
   "metadata": {},
   "outputs": [],
   "source": [
    "predicted_crop=model.predict(testing_image)[0]"
   ]
  },
  {
   "cell_type": "code",
   "execution_count": 37,
   "id": "nasty-continent",
   "metadata": {},
   "outputs": [
    {
     "data": {
      "text/plain": [
       "array([1.8174514e-02, 9.2501318e-01, 2.1883087e-04, 2.8242948e-04,\n",
       "       5.6311004e-02], dtype=float32)"
      ]
     },
     "execution_count": 37,
     "metadata": {},
     "output_type": "execute_result"
    }
   ],
   "source": [
    "predicted_crop"
   ]
  },
  {
   "cell_type": "code",
   "execution_count": null,
   "id": "editorial-vault",
   "metadata": {},
   "outputs": [],
   "source": []
  },
  {
   "cell_type": "code",
   "execution_count": 38,
   "id": "eastern-mattress",
   "metadata": {},
   "outputs": [],
   "source": [
    "def getClass(array):\n",
    "    index=0\n",
    "    max_=max(array)\n",
    "    for i in range(len(array)):\n",
    "        if array[i]==max_:\n",
    "            index=i\n",
    "#     print(class_list[index])\n",
    "    return class_list[index]"
   ]
  },
  {
   "cell_type": "code",
   "execution_count": 39,
   "id": "deluxe-decrease",
   "metadata": {},
   "outputs": [
    {
     "data": {
      "text/plain": [
       "'Maize'"
      ]
     },
     "execution_count": 39,
     "metadata": {},
     "output_type": "execute_result"
    }
   ],
   "source": [
    "getClass(predicted_crop)"
   ]
  },
  {
   "cell_type": "code",
   "execution_count": null,
   "id": "acknowledged-payment",
   "metadata": {},
   "outputs": [],
   "source": []
  },
  {
   "cell_type": "code",
   "execution_count": 40,
   "id": "engaging-momentum",
   "metadata": {},
   "outputs": [],
   "source": [
    "Training_predictions=[]\n",
    "Training_Labels_value=[]\n",
    "for i in range(len(Predictions)):\n",
    "    Training_predictions.append(getClass(Predictions[i]))\n",
    "    Training_Labels_value.append(class_list[Training_Labels[i]])"
   ]
  },
  {
   "cell_type": "code",
   "execution_count": 41,
   "id": "committed-natural",
   "metadata": {
    "collapsed": true,
    "jupyter": {
     "outputs_hidden": true
    }
   },
   "outputs": [
    {
     "data": {
      "text/plain": [
       "['Wheat',\n",
       " 'Cotton',\n",
       " 'Sugarcane',\n",
       " 'Wheat',\n",
       " 'Wheat',\n",
       " 'Cotton',\n",
       " 'Cotton',\n",
       " 'Cotton',\n",
       " 'Cotton',\n",
       " 'Rice',\n",
       " 'Cotton',\n",
       " 'Wheat',\n",
       " 'Maize',\n",
       " 'Sugarcane',\n",
       " 'Wheat',\n",
       " 'Rice',\n",
       " 'Rice',\n",
       " 'Wheat',\n",
       " 'Cotton',\n",
       " 'Cotton',\n",
       " 'Rice',\n",
       " 'Wheat',\n",
       " 'Wheat',\n",
       " 'Wheat',\n",
       " 'Cotton',\n",
       " 'Wheat',\n",
       " 'Rice',\n",
       " 'Rice',\n",
       " 'Sugarcane',\n",
       " 'Rice',\n",
       " 'Sugarcane',\n",
       " 'Maize',\n",
       " 'Cotton',\n",
       " 'Cotton',\n",
       " 'Cotton',\n",
       " 'Rice',\n",
       " 'Wheat',\n",
       " 'Sugarcane',\n",
       " 'Maize',\n",
       " 'Sugarcane',\n",
       " 'Cotton',\n",
       " 'Maize',\n",
       " 'Sugarcane',\n",
       " 'Wheat',\n",
       " 'Wheat',\n",
       " 'Cotton',\n",
       " 'Cotton',\n",
       " 'Maize',\n",
       " 'Maize',\n",
       " 'Cotton',\n",
       " 'Wheat',\n",
       " 'Rice',\n",
       " 'Maize',\n",
       " 'Sugarcane',\n",
       " 'Rice',\n",
       " 'Cotton',\n",
       " 'Wheat',\n",
       " 'Maize',\n",
       " 'Cotton',\n",
       " 'Rice',\n",
       " 'Rice',\n",
       " 'Sugarcane',\n",
       " 'Rice',\n",
       " 'Rice',\n",
       " 'Wheat',\n",
       " 'Sugarcane',\n",
       " 'Wheat',\n",
       " 'Cotton',\n",
       " 'Sugarcane',\n",
       " 'Rice',\n",
       " 'Cotton',\n",
       " 'Rice',\n",
       " 'Sugarcane',\n",
       " 'Sugarcane',\n",
       " 'Wheat',\n",
       " 'Rice',\n",
       " 'Wheat',\n",
       " 'Wheat',\n",
       " 'Cotton',\n",
       " 'Rice',\n",
       " 'Cotton',\n",
       " 'Rice',\n",
       " 'Rice',\n",
       " 'Maize',\n",
       " 'Rice',\n",
       " 'Cotton',\n",
       " 'Cotton',\n",
       " 'Rice',\n",
       " 'Maize',\n",
       " 'Rice',\n",
       " 'Wheat',\n",
       " 'Rice',\n",
       " 'Wheat',\n",
       " 'Maize',\n",
       " 'Rice',\n",
       " 'Rice',\n",
       " 'Sugarcane',\n",
       " 'Cotton',\n",
       " 'Cotton',\n",
       " 'Rice',\n",
       " 'Maize',\n",
       " 'Rice',\n",
       " 'Rice',\n",
       " 'Maize',\n",
       " 'Cotton',\n",
       " 'Wheat',\n",
       " 'Sugarcane',\n",
       " 'Sugarcane',\n",
       " 'Wheat',\n",
       " 'Cotton',\n",
       " 'Cotton',\n",
       " 'Rice',\n",
       " 'Rice',\n",
       " 'Maize',\n",
       " 'Wheat',\n",
       " 'Rice',\n",
       " 'Wheat',\n",
       " 'Cotton',\n",
       " 'Wheat',\n",
       " 'Cotton',\n",
       " 'Sugarcane',\n",
       " 'Maize',\n",
       " 'Rice',\n",
       " 'Wheat',\n",
       " 'Maize']"
      ]
     },
     "execution_count": 41,
     "metadata": {},
     "output_type": "execute_result"
    }
   ],
   "source": [
    "# Training_predictions"
   ]
  },
  {
   "cell_type": "code",
   "execution_count": 42,
   "id": "conceptual-conducting",
   "metadata": {
    "collapsed": true,
    "jupyter": {
     "outputs_hidden": true
    }
   },
   "outputs": [
    {
     "data": {
      "text/plain": [
       "['Cotton',\n",
       " 'Maize',\n",
       " 'Maize',\n",
       " 'Cotton',\n",
       " 'Wheat',\n",
       " 'Rice',\n",
       " 'Wheat',\n",
       " 'Rice',\n",
       " 'Sugarcane',\n",
       " 'Cotton',\n",
       " 'Cotton',\n",
       " 'Cotton',\n",
       " 'Wheat',\n",
       " 'Maize',\n",
       " 'Wheat',\n",
       " 'Cotton',\n",
       " 'Rice',\n",
       " 'Wheat',\n",
       " 'Sugarcane',\n",
       " 'Rice',\n",
       " 'Sugarcane',\n",
       " 'Wheat',\n",
       " 'Wheat',\n",
       " 'Maize',\n",
       " 'Maize',\n",
       " 'Wheat',\n",
       " 'Maize',\n",
       " 'Cotton',\n",
       " 'Maize',\n",
       " 'Sugarcane',\n",
       " 'Cotton',\n",
       " 'Wheat',\n",
       " 'Rice',\n",
       " 'Rice',\n",
       " 'Rice',\n",
       " 'Sugarcane',\n",
       " 'Sugarcane',\n",
       " 'Maize',\n",
       " 'Rice',\n",
       " 'Maize',\n",
       " 'Sugarcane',\n",
       " 'Maize',\n",
       " 'Cotton',\n",
       " 'Sugarcane',\n",
       " 'Rice',\n",
       " 'Rice',\n",
       " 'Sugarcane',\n",
       " 'Rice',\n",
       " 'Maize',\n",
       " 'Cotton',\n",
       " 'Cotton',\n",
       " 'Sugarcane',\n",
       " 'Cotton',\n",
       " 'Maize',\n",
       " 'Maize',\n",
       " 'Rice',\n",
       " 'Maize',\n",
       " 'Sugarcane',\n",
       " 'Cotton',\n",
       " 'Wheat',\n",
       " 'Wheat',\n",
       " 'Rice',\n",
       " 'Wheat',\n",
       " 'Sugarcane',\n",
       " 'Sugarcane',\n",
       " 'Maize',\n",
       " 'Maize',\n",
       " 'Rice',\n",
       " 'Sugarcane',\n",
       " 'Wheat',\n",
       " 'Cotton',\n",
       " 'Wheat',\n",
       " 'Cotton',\n",
       " 'Maize',\n",
       " 'Rice',\n",
       " 'Sugarcane',\n",
       " 'Maize',\n",
       " 'Wheat',\n",
       " 'Cotton',\n",
       " 'Cotton',\n",
       " 'Sugarcane',\n",
       " 'Wheat',\n",
       " 'Cotton',\n",
       " 'Sugarcane',\n",
       " 'Sugarcane',\n",
       " 'Maize',\n",
       " 'Rice',\n",
       " 'Maize',\n",
       " 'Sugarcane',\n",
       " 'Maize',\n",
       " 'Rice',\n",
       " 'Wheat',\n",
       " 'Sugarcane',\n",
       " 'Rice',\n",
       " 'Cotton',\n",
       " 'Rice',\n",
       " 'Rice',\n",
       " 'Wheat',\n",
       " 'Sugarcane',\n",
       " 'Maize',\n",
       " 'Cotton',\n",
       " 'Wheat',\n",
       " 'Wheat',\n",
       " 'Cotton',\n",
       " 'Cotton',\n",
       " 'Cotton',\n",
       " 'Maize',\n",
       " 'Rice',\n",
       " 'Sugarcane',\n",
       " 'Cotton',\n",
       " 'Wheat',\n",
       " 'Rice',\n",
       " 'Wheat',\n",
       " 'Cotton',\n",
       " 'Cotton',\n",
       " 'Maize',\n",
       " 'Cotton',\n",
       " 'Maize',\n",
       " 'Cotton',\n",
       " 'Sugarcane',\n",
       " 'Sugarcane',\n",
       " 'Cotton',\n",
       " 'Cotton',\n",
       " 'Sugarcane',\n",
       " 'Rice']"
      ]
     },
     "execution_count": 42,
     "metadata": {},
     "output_type": "execute_result"
    }
   ],
   "source": [
    "# Training_Labels_value"
   ]
  },
  {
   "cell_type": "code",
   "execution_count": 43,
   "id": "spare-county",
   "metadata": {
    "collapsed": true,
    "jupyter": {
     "outputs_hidden": true
    }
   },
   "outputs": [
    {
     "name": "stdout",
     "output_type": "stream",
     "text": [
      "Actual values --> Predicted values\n",
      "Cotton   ->   Wheat\n",
      "Maize   ->   Cotton\n",
      "Maize   ->   Sugarcane\n",
      "Cotton   ->   Wheat\n",
      "Wheat   ->   Wheat\n",
      "Rice   ->   Cotton\n",
      "Wheat   ->   Cotton\n",
      "Rice   ->   Cotton\n",
      "Sugarcane   ->   Cotton\n",
      "Cotton   ->   Rice\n",
      "Cotton   ->   Cotton\n",
      "Cotton   ->   Wheat\n",
      "Wheat   ->   Maize\n",
      "Maize   ->   Sugarcane\n",
      "Wheat   ->   Wheat\n",
      "Cotton   ->   Rice\n",
      "Rice   ->   Rice\n",
      "Wheat   ->   Wheat\n",
      "Sugarcane   ->   Cotton\n",
      "Rice   ->   Cotton\n",
      "Sugarcane   ->   Rice\n",
      "Wheat   ->   Wheat\n",
      "Wheat   ->   Wheat\n",
      "Maize   ->   Wheat\n",
      "Maize   ->   Cotton\n",
      "Wheat   ->   Wheat\n",
      "Maize   ->   Rice\n",
      "Cotton   ->   Rice\n",
      "Maize   ->   Sugarcane\n",
      "Sugarcane   ->   Rice\n",
      "Cotton   ->   Sugarcane\n",
      "Wheat   ->   Maize\n",
      "Rice   ->   Cotton\n",
      "Rice   ->   Cotton\n",
      "Rice   ->   Cotton\n",
      "Sugarcane   ->   Rice\n",
      "Sugarcane   ->   Wheat\n",
      "Maize   ->   Sugarcane\n",
      "Rice   ->   Maize\n",
      "Maize   ->   Sugarcane\n",
      "Sugarcane   ->   Cotton\n",
      "Maize   ->   Maize\n",
      "Cotton   ->   Sugarcane\n",
      "Sugarcane   ->   Wheat\n",
      "Rice   ->   Wheat\n",
      "Rice   ->   Cotton\n",
      "Sugarcane   ->   Cotton\n",
      "Rice   ->   Maize\n",
      "Maize   ->   Maize\n",
      "Cotton   ->   Cotton\n",
      "Cotton   ->   Wheat\n",
      "Sugarcane   ->   Rice\n",
      "Cotton   ->   Maize\n",
      "Maize   ->   Sugarcane\n",
      "Maize   ->   Rice\n",
      "Rice   ->   Cotton\n",
      "Maize   ->   Wheat\n",
      "Sugarcane   ->   Maize\n",
      "Cotton   ->   Cotton\n",
      "Wheat   ->   Rice\n",
      "Wheat   ->   Rice\n",
      "Rice   ->   Sugarcane\n",
      "Wheat   ->   Rice\n",
      "Sugarcane   ->   Rice\n",
      "Sugarcane   ->   Wheat\n",
      "Maize   ->   Sugarcane\n",
      "Maize   ->   Wheat\n",
      "Rice   ->   Cotton\n",
      "Sugarcane   ->   Sugarcane\n",
      "Wheat   ->   Rice\n",
      "Cotton   ->   Cotton\n",
      "Wheat   ->   Rice\n",
      "Cotton   ->   Sugarcane\n",
      "Maize   ->   Sugarcane\n",
      "Rice   ->   Wheat\n",
      "Sugarcane   ->   Rice\n",
      "Maize   ->   Wheat\n",
      "Wheat   ->   Wheat\n",
      "Cotton   ->   Cotton\n",
      "Cotton   ->   Rice\n",
      "Sugarcane   ->   Cotton\n",
      "Wheat   ->   Rice\n",
      "Cotton   ->   Rice\n",
      "Sugarcane   ->   Maize\n",
      "Sugarcane   ->   Rice\n",
      "Maize   ->   Cotton\n",
      "Rice   ->   Cotton\n",
      "Maize   ->   Rice\n",
      "Sugarcane   ->   Maize\n",
      "Maize   ->   Rice\n",
      "Rice   ->   Wheat\n",
      "Wheat   ->   Rice\n",
      "Sugarcane   ->   Wheat\n",
      "Rice   ->   Maize\n",
      "Cotton   ->   Rice\n",
      "Rice   ->   Rice\n",
      "Rice   ->   Sugarcane\n",
      "Wheat   ->   Cotton\n",
      "Sugarcane   ->   Cotton\n",
      "Maize   ->   Rice\n",
      "Cotton   ->   Maize\n",
      "Wheat   ->   Rice\n",
      "Wheat   ->   Rice\n",
      "Cotton   ->   Maize\n",
      "Cotton   ->   Cotton\n",
      "Cotton   ->   Wheat\n",
      "Maize   ->   Sugarcane\n",
      "Rice   ->   Sugarcane\n",
      "Sugarcane   ->   Wheat\n",
      "Cotton   ->   Cotton\n",
      "Wheat   ->   Cotton\n",
      "Rice   ->   Rice\n",
      "Wheat   ->   Rice\n",
      "Cotton   ->   Maize\n",
      "Cotton   ->   Wheat\n",
      "Maize   ->   Rice\n",
      "Cotton   ->   Wheat\n",
      "Maize   ->   Cotton\n",
      "Cotton   ->   Wheat\n",
      "Sugarcane   ->   Cotton\n",
      "Sugarcane   ->   Sugarcane\n",
      "Cotton   ->   Maize\n",
      "Cotton   ->   Rice\n",
      "Sugarcane   ->   Wheat\n",
      "Rice   ->   Maize\n"
     ]
    }
   ],
   "source": [
    "print(\"Actual values --> Predicted values\",)\n",
    "for i in range(len(Predictions)):\n",
    "    print(Training_Labels_value[i],\"  ->  \",Training_predictions[i])"
   ]
  },
  {
   "cell_type": "code",
   "execution_count": 44,
   "id": "foster-kentucky",
   "metadata": {},
   "outputs": [],
   "source": [
    "Testing_predictions=[]\n",
    "Testing_Labels_value=[]\n",
    "for i in range(len(Predictions)):\n",
    "    Testing_predictions.append(getClass(Predictions[i]))\n",
    "    Testing_Labels_value.append(class_list[Testing_Labels[i]])"
   ]
  },
  {
   "cell_type": "code",
   "execution_count": 45,
   "id": "thorough-christianity",
   "metadata": {
    "collapsed": true,
    "jupyter": {
     "outputs_hidden": true
    }
   },
   "outputs": [
    {
     "name": "stdout",
     "output_type": "stream",
     "text": [
      "Actual values --> Predicted values\n",
      "Maize   ->   Wheat\n",
      "Cotton   ->   Cotton\n",
      "Sugarcane   ->   Sugarcane\n",
      "Wheat   ->   Wheat\n",
      "Sugarcane   ->   Wheat\n",
      "Maize   ->   Cotton\n",
      "Cotton   ->   Cotton\n",
      "Cotton   ->   Cotton\n",
      "Cotton   ->   Cotton\n",
      "Rice   ->   Rice\n",
      "Cotton   ->   Cotton\n",
      "Wheat   ->   Wheat\n",
      "Maize   ->   Maize\n",
      "Wheat   ->   Sugarcane\n",
      "Sugarcane   ->   Wheat\n",
      "Rice   ->   Rice\n",
      "Sugarcane   ->   Rice\n",
      "Wheat   ->   Wheat\n",
      "Cotton   ->   Cotton\n",
      "Cotton   ->   Cotton\n",
      "Rice   ->   Rice\n",
      "Sugarcane   ->   Wheat\n",
      "Rice   ->   Wheat\n",
      "Wheat   ->   Wheat\n",
      "Cotton   ->   Cotton\n",
      "Rice   ->   Wheat\n",
      "Rice   ->   Rice\n",
      "Wheat   ->   Rice\n",
      "Maize   ->   Sugarcane\n",
      "Rice   ->   Rice\n",
      "Sugarcane   ->   Sugarcane\n",
      "Maize   ->   Maize\n",
      "Cotton   ->   Cotton\n",
      "Cotton   ->   Cotton\n",
      "Sugarcane   ->   Cotton\n",
      "Wheat   ->   Rice\n",
      "Maize   ->   Wheat\n",
      "Sugarcane   ->   Sugarcane\n",
      "Maize   ->   Maize\n",
      "Sugarcane   ->   Sugarcane\n",
      "Cotton   ->   Cotton\n",
      "Maize   ->   Maize\n",
      "Sugarcane   ->   Sugarcane\n",
      "Maize   ->   Wheat\n",
      "Wheat   ->   Wheat\n",
      "Maize   ->   Cotton\n",
      "Wheat   ->   Cotton\n",
      "Cotton   ->   Maize\n",
      "Maize   ->   Maize\n",
      "Cotton   ->   Cotton\n",
      "Sugarcane   ->   Wheat\n",
      "Rice   ->   Rice\n",
      "Sugarcane   ->   Maize\n",
      "Sugarcane   ->   Sugarcane\n",
      "Wheat   ->   Rice\n",
      "Cotton   ->   Cotton\n",
      "Sugarcane   ->   Wheat\n",
      "Wheat   ->   Maize\n",
      "Rice   ->   Cotton\n",
      "Maize   ->   Rice\n",
      "Sugarcane   ->   Rice\n",
      "Sugarcane   ->   Sugarcane\n",
      "Wheat   ->   Rice\n",
      "Wheat   ->   Rice\n",
      "Sugarcane   ->   Wheat\n",
      "Sugarcane   ->   Sugarcane\n",
      "Wheat   ->   Wheat\n",
      "Cotton   ->   Cotton\n",
      "Maize   ->   Sugarcane\n",
      "Wheat   ->   Rice\n",
      "Cotton   ->   Cotton\n",
      "Maize   ->   Rice\n",
      "Sugarcane   ->   Sugarcane\n",
      "Sugarcane   ->   Sugarcane\n",
      "Cotton   ->   Wheat\n",
      "Rice   ->   Rice\n",
      "Maize   ->   Wheat\n",
      "Wheat   ->   Wheat\n",
      "Cotton   ->   Cotton\n",
      "Rice   ->   Rice\n",
      "Cotton   ->   Cotton\n",
      "Rice   ->   Rice\n",
      "Rice   ->   Rice\n",
      "Maize   ->   Maize\n",
      "Rice   ->   Rice\n",
      "Sugarcane   ->   Cotton\n",
      "Maize   ->   Cotton\n",
      "Rice   ->   Rice\n",
      "Maize   ->   Maize\n",
      "Rice   ->   Rice\n",
      "Cotton   ->   Wheat\n",
      "Rice   ->   Rice\n",
      "Cotton   ->   Wheat\n",
      "Maize   ->   Maize\n",
      "Rice   ->   Rice\n",
      "Rice   ->   Rice\n",
      "Rice   ->   Sugarcane\n",
      "Cotton   ->   Cotton\n",
      "Cotton   ->   Cotton\n",
      "Wheat   ->   Rice\n",
      "Maize   ->   Maize\n",
      "Wheat   ->   Rice\n",
      "Rice   ->   Rice\n",
      "Maize   ->   Maize\n",
      "Cotton   ->   Cotton\n",
      "Wheat   ->   Wheat\n",
      "Sugarcane   ->   Sugarcane\n",
      "Sugarcane   ->   Sugarcane\n",
      "Sugarcane   ->   Wheat\n",
      "Cotton   ->   Cotton\n",
      "Cotton   ->   Cotton\n",
      "Rice   ->   Rice\n",
      "Maize   ->   Rice\n",
      "Maize   ->   Maize\n",
      "Wheat   ->   Wheat\n",
      "Rice   ->   Rice\n",
      "Rice   ->   Wheat\n",
      "Cotton   ->   Cotton\n",
      "Wheat   ->   Wheat\n",
      "Cotton   ->   Cotton\n",
      "Sugarcane   ->   Sugarcane\n",
      "Rice   ->   Maize\n",
      "Wheat   ->   Rice\n",
      "Wheat   ->   Wheat\n",
      "Wheat   ->   Maize\n"
     ]
    }
   ],
   "source": [
    "print(\"Actual values --> Predicted values\",)\n",
    "for i in range(len(Predictions)):\n",
    "    print(Testing_Labels_value[i],\"  ->  \",Testing_predictions[i])"
   ]
  },
  {
   "cell_type": "code",
   "execution_count": 48,
   "id": "super-maintenance",
   "metadata": {},
   "outputs": [
    {
     "data": {
      "text/plain": [
       "array([[24,  1,  0,  0,  3],\n",
       "       [ 3, 11,  3,  2,  4],\n",
       "       [ 1,  1, 19,  1,  3],\n",
       "       [ 2,  1,  2, 13,  7],\n",
       "       [ 1,  2,  9,  1, 11]], dtype=int64)"
      ]
     },
     "execution_count": 48,
     "metadata": {},
     "output_type": "execute_result"
    }
   ],
   "source": [
    "confusion_matrix(Testing_Labels_value,Testing_predictions)"
   ]
  },
  {
   "cell_type": "code",
   "execution_count": 47,
   "id": "architectural-lunch",
   "metadata": {},
   "outputs": [
    {
     "data": {
      "text/plain": [
       "<AxesSubplot:>"
      ]
     },
     "execution_count": 47,
     "metadata": {},
     "output_type": "execute_result"
    }
   ],
   "source": [
    "seaborn.heatmap(confusion_matrix(Testing_Labels_value,Testing_predictions),annot=True,xticklabels=class_list,yticklabels=class_list)"
   ]
  },
  {
   "cell_type": "code",
   "execution_count": 49,
   "id": "israeli-network",
   "metadata": {},
   "outputs": [
    {
     "name": "stdout",
     "output_type": "stream",
     "text": [
      "              precision    recall  f1-score   support\n",
      "\n",
      "      Cotton       0.77      0.86      0.81        28\n",
      "       Maize       0.69      0.48      0.56        23\n",
      "        Rice       0.58      0.76      0.66        25\n",
      "   Sugarcane       0.76      0.52      0.62        25\n",
      "       Wheat       0.39      0.46      0.42        24\n",
      "\n",
      "    accuracy                           0.62       125\n",
      "   macro avg       0.64      0.61      0.61       125\n",
      "weighted avg       0.64      0.62      0.62       125\n",
      "\n"
     ]
    }
   ],
   "source": [
    "print(classification_report(Testing_Labels_value,Testing_predictions))"
   ]
  },
  {
   "cell_type": "code",
   "execution_count": null,
   "id": "green-disabled",
   "metadata": {},
   "outputs": [],
   "source": []
  }
 ],
 "metadata": {
  "kernelspec": {
   "display_name": "Python 3",
   "language": "python",
   "name": "python3"
  },
  "language_info": {
   "codemirror_mode": {
    "name": "ipython",
    "version": 3
   },
   "file_extension": ".py",
   "mimetype": "text/x-python",
   "name": "python",
   "nbconvert_exporter": "python",
   "pygments_lexer": "ipython3",
   "version": "3.9.2"
  },
  "vscode": {
   "interpreter": {
    "hash": "11938c6bc6919ae2720b4d5011047913343b08a43b18698fd82dedb0d4417594"
   }
  }
 },
 "nbformat": 4,
 "nbformat_minor": 5
}
